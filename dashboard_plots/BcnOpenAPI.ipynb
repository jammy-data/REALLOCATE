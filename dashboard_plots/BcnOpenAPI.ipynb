{
 "cells": [
  {
   "cell_type": "markdown",
   "id": "ec9f8de1",
   "metadata": {},
   "source": [
    "# Pulling BCN Open data from the API and processing"
   ]
  },
  {
   "cell_type": "code",
   "execution_count": 84,
   "id": "520e7067",
   "metadata": {},
   "outputs": [],
   "source": [
    "# This script retrieves the list of organizations from the Open Data API of Barcelona.\n",
    "# It uses the requests library to make API calls and pandas for data manipulation.\n",
    "import requests\n",
    "import os\n",
    "import pandas as pd\n",
    "import json\n",
    "import matplotlib.pyplot as plt\n",
    "import seaborn as sns\n",
    "import os\n",
    "import numpy as np"
   ]
  },
  {
   "cell_type": "code",
   "execution_count": 85,
   "id": "584cad66",
   "metadata": {},
   "outputs": [],
   "source": [
    "API_URL = \"https://portaldades.ajuntament.barcelona.cat/services/backend/rest/statistic/export\"\n",
    "\n",
    "API_KEY = \"e58ce2d31573401158da989c0906bb09\"\n",
    "\n",
    "headers = {'Authorization': API_KEY}"
   ]
  },
  {
   "cell_type": "code",
   "execution_count": null,
   "id": "19045ba5",
   "metadata": {},
   "outputs": [
    {
     "name": "stdout",
     "output_type": "stream",
     "text": [
      "           Dim-00:TEMPS Dim-01:TERRITORI  Dim-01:TERRITORI (order)  \\\n",
      "0  2015-01-01T00:00:00Z        Barcelona                        -1   \n",
      "1  2015-01-01T00:00:00Z        Barcelona                        -1   \n",
      "2  2016-01-01T00:00:00Z        Barcelona                        -1   \n",
      "3  2016-01-01T00:00:00Z        Barcelona                        -1   \n",
      "4  2017-01-01T00:00:00Z        Barcelona                        -1   \n",
      "\n",
      "  Dim-01:TERRITORI (type) Dim-02:TIPUS DE ETAPA      VALUE  \n",
      "0                Municipi             ConnexiÃ³    80657.0  \n",
      "1                Municipi               Interna  3280032.0  \n",
      "2                Municipi             ConnexiÃ³    58655.0  \n",
      "3                Municipi               Interna  2385291.0  \n",
      "4                Municipi               Interna  2287812.0  \n"
     ]
    }
   ],
   "source": [
    "import requests\n",
    "import pandas as pd\n",
    "from io import StringIO\n",
    "\n",
    "# Constants\n",
    "API_URL = \"https://portaldades.ajuntament.barcelona.cat/services/backend/rest/statistic/export\"\n",
    "DATASET_ID = \"?id=wc9hkmubl7&fileformat=CSV\"\n",
    "headers = {\n",
    "    \"X-IBM-Client-Id\": \"e58ce2d31573401158da989c0906bb09\"\n",
    "}\n",
    "\n",
    "# Fetch CSV content\n",
    "data_response = requests.get((API_URL + DATASET_ID), headers=headers)\n",
    "\n",
    "# Load the CSV content into a pandas DataFrame\n",
    "csv_file = StringIO(data_response.text)\n",
    "df = pd.read_csv(csv_file, encoding='utf-8')\n",
    "\n",
    "# Preview the data\n",
    "print(df.head())\n"
   ]
  },
  {
   "cell_type": "code",
   "execution_count": null,
   "id": "526ac69f",
   "metadata": {},
   "outputs": [],
   "source": [
    "import datetime\n",
    "df[df.columns[0]] = pd.to_datetime(df['Dim-00:TEMPS'], utc=True)\n",
    "df_grouped = df.groupby(df.columns[0]).sum()\n",
    "df_grouped['VALUE'].plot(title='VALUE over Time')"
   ]
  },
  {
   "cell_type": "markdown",
   "id": "820614e9",
   "metadata": {},
   "source": [
    "Looks to be some sort of encoding error here but that's okay. We're just interested in the numbers for now."
   ]
  }
 ],
 "metadata": {
  "kernelspec": {
   "display_name": "reallocate",
   "language": "python",
   "name": "python3"
  },
  "language_info": {
   "codemirror_mode": {
    "name": "ipython",
    "version": 3
   },
   "file_extension": ".py",
   "mimetype": "text/x-python",
   "name": "python",
   "nbconvert_exporter": "python",
   "pygments_lexer": "ipython3",
   "version": "3.13.3"
  }
 },
 "nbformat": 4,
 "nbformat_minor": 5
}
