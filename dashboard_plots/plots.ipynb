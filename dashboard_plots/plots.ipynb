{
 "cells": [
  {
   "cell_type": "markdown",
   "id": "814592bf",
   "metadata": {},
   "source": [
    "# Testing visualisations and pipelines\n"
   ]
  },
  {
   "cell_type": "markdown",
   "id": "f3fcd2e4",
   "metadata": {},
   "source": [
    "> Here we want to get started on connecting the CKAN API and, where available, visualise the data. "
   ]
  },
  {
   "cell_type": "markdown",
   "id": "b0d8bece",
   "metadata": {},
   "source": [
    "Where the API does not have any data available, dummy data will be produced to replicate the KPIs of each pilot city. It is recognised that the published data may look somewhat different, but the aim of this task is to get started on the pipeline"
   ]
  },
  {
   "cell_type": "markdown",
   "id": "cbec7463",
   "metadata": {},
   "source": [
    "> list of KPIs \n",
    "* KPI#1 - Increases in pedestrians + cyclists (numbers)\n",
    "* KPI#2 -Pedestrian & disabled comfort (reduced risks; walking dstance/time; shade, walkable conditions) (% from baseline)\n",
    "* KPI#3 -Cycling & e-bike comfort (reduced cycle waiting time, increased bike parkings, etc.) (% from baseline)\n",
    "* KPI#4 - VRUs/user interactions improvements (AI modelled - reduced near misses, responsive traffic lights, etc.)\n",
    "* KPI#5 - Reallocation of public space (sqm/year)\n",
    "* KPI#6 - Conversion from impermeable to permeable/vegetated surface (sqm + no. of trees planted)\n",
    "* KPI#7 - Uptake/incorporation of Circular Economy principles (% from baseline)\n",
    "* KPI#8 - Engagement (no. of people engaged in co-creation/co-management)\n",
    "* KPI#9 - Public acceptance of interventions (citizens + stakeholders) (% of persons asked)\n",
    "* KPI#10 - Extendibility - Replicability of the intervention (% extendable/ replicable)\n",
    "* KPI#11- Promotion of infection free mobility in Interventions (possibility to keep 1-2m distance)\n",
    "* KPI#12 - Achievement of Climate Targets for Transport (% of achievement)"
   ]
  },
  {
   "cell_type": "markdown",
   "id": "8b2c3921",
   "metadata": {},
   "source": [
    "## Connect to the API"
   ]
  },
  {
   "cell_type": "code",
   "execution_count": 87,
   "id": "3203095b",
   "metadata": {},
   "outputs": [
    {
     "name": "stdout",
     "output_type": "stream",
     "text": [
      "['bkk', 'bsc', 'barcelona', 'bologna', 'budapest', 'certh', 'cerema', 'dekra', 'ertico', 'gothenburg', 'heidelberg', 'lyon', 'tampere', 'ucd', 'utrecht', 'warsaw', 'zagreb']\n"
     ]
    }
   ],
   "source": [
    "import requests\n",
    "\n",
    "CKAN_URL = 'https://reallocate-ckan.iti.gr'\n",
    "API_KEY = ''  # Replace if needed\n",
    "\n",
    "headers = {'Authorization': API_KEY}\n",
    "\n",
    "# Get all organization names\n",
    "orgs_url = f'{CKAN_URL}/api/3/action/organization_list'\n",
    "orgs_response = requests.get(orgs_url, headers=headers)\n",
    "org_names = orgs_response.json()['result']\n",
    "print(org_names)"
   ]
  },
  {
   "cell_type": "code",
   "execution_count": 88,
   "id": "48b74ee6",
   "metadata": {},
   "outputs": [],
   "source": [
    "from pprint import pprint\n",
    "\n",
    "all_data = {}\n",
    "\n",
    "for org_name in org_names:\n",
    "    search_url = f'{CKAN_URL}/api/3/action/package_search'\n",
    "    params = {'fq': f'organization:{org_name}', 'rows': 100}\n",
    "    res = requests.get(search_url, headers=headers, params=params)\n",
    "    result = res.json()\n",
    "\n",
    "    if result['success']:\n",
    "        datasets = result['result']['results']\n",
    "        all_data[org_name] = []\n",
    "\n",
    "        for dataset in datasets:\n",
    "            dataset_info = {\n",
    "                'title': dataset['title'],\n",
    "                'name': dataset['name'],\n",
    "                'resources': []\n",
    "            }\n",
    "\n",
    "            for res in dataset.get('resources', []):\n",
    "                resource_info = {\n",
    "                    'name': res['name'],\n",
    "                    'format': res['format'],\n",
    "                    'url': res['url']\n",
    "                }\n",
    "                dataset_info['resources'].append(resource_info)\n",
    "\n",
    "            all_data[org_name].append(dataset_info)\n",
    "    else:\n",
    "        print(f\"Failed to fetch datasets for org: {org_name}\")\n"
   ]
  },
  {
   "cell_type": "code",
   "execution_count": 89,
   "id": "2fd7f30b",
   "metadata": {},
   "outputs": [
    {
     "data": {
      "text/plain": [
       "dict_items([('bkk', [{'title': 'Megyeri Road school modal split study', 'name': 'megyeri-road-school-modal-split-study', 'resources': [{'name': 'Megyeri road school modal split data', 'format': 'PPT', 'url': 'https://reallocate-ckan.iti.gr:443/dataset/776f6a6b-e358-4cdc-81b6-e22a953a7f5f/resource/42b6c808-ac87-45e8-867c-afd62b7d913a/download/sulizona_megyeri-uti-kiertekeles_eng.pptx'}]}, {'title': 'EFM Unified traffic model', 'name': 'efm-unified-traffic-model', 'resources': [{'name': 'EFM-Unified traffic model', 'format': 'JPEG', 'url': 'https://reallocate-ckan.iti.gr:443/dataset/b09d25cc-0e49-4fa6-ad1f-fec4bbe0df44/resource/8e22de31-8ec7-482c-978f-04729a8d9e4e/download/efm-20241114t161226z-001.zip'}]}, {'title': 'Hospital data', 'name': 'hospital-data', 'resources': [{'name': 'Hospital_data.xlsx', 'format': 'XLSX', 'url': 'https://reallocate-ckan.iti.gr:443/dataset/e197ecca-a1ff-4830-8220-02b44018a36c/resource/946f65aa-3a16-4109-aa99-58f4cc46707a/download/hospital_data.xlsx'}]}, {'title': 'Baross road traffic data', 'name': 'baross-road-traffic-data', 'resources': [{'name': 'Baross road traffic data', 'format': 'PPT', 'url': 'https://reallocate-ckan.iti.gr:443/dataset/58beaf8d-3b34-4c02-9db2-7f615f869840/resource/b69fc5c1-e7a7-46cb-805f-4cbc97be378a/download/eredmeny_eng.pptx'}]}]), ('bsc', []), ('barcelona', [{'title': 'Bicing service use of the city of Barcelona from August 2018 to March 2019', 'name': 'bicing-service-use-of-the-city-of-barcelona-from-august-2018-to-march-2019', 'resources': [{'name': 'us-del-servei-bicing', 'format': '', 'url': 'https://opendata-ajuntament.barcelona.cat/data/en/dataset/us-del-servei-bicing'}]}, {'title': 'Vehicles involved in accidents handled by the police in the city of Barcelona', 'name': 'vehicles-involved-in-accidents-handled-by-the-police-in-the-city-of-barcelona', 'resources': [{'name': '2023_accidents_vehicles_gu_bcn.csv', 'format': 'CSV', 'url': 'https://reallocate-ckan.iti.gr:443/dataset/8ffbf107-042b-41c9-9a6e-a7119bce5d63/resource/8e0da597-8a35-4cd4-b35e-b46b0033a748/download/2023_accidents_vehicles_gu_bcn.csv'}]}, {'title': 'Traffic state information by sections of the city of Barcelona', 'name': 'traffic-state-information-by-sections-of-the-city-of-barcelona', 'resources': [{'name': 'ec409c44-6a07-411d-8f53-efb5c1b7e989', 'format': '', 'url': 'https://opendata-ajuntament.barcelona.cat/data/en/dataset/trams/resource/ec409c44-6a07-411d-8f53-efb5c1b7e989'}]}, {'title': 'Survey of Municipal Services 2024', 'name': 'survey-of-municipal-services-2024', 'resources': [{'name': 'Survey of Municipal Services 2024', 'format': 'CSV', 'url': 'https://reallocate-ckan.iti.gr:443/dataset/10c6b922-3f58-4bef-ae42-b45e9bb19fd4/resource/d609c0d6-1b34-4913-b475-e26d76cbf231/download/r24003_serveis_municipals_bd_csvcodi_v1_0.csv'}]}]), ('bologna', []), ('budapest', []), ('certh', []), ('cerema', []), ('dekra', []), ('ertico', []), ('gothenburg', []), ('heidelberg', []), ('lyon', []), ('tampere', [{'title': 'Tampere vehicle traffic', 'name': 'tampere-vehicle-traffic', 'resources': [{'name': 'vehicle_traffic.csv', 'format': 'CSV', 'url': 'https://reallocate-ckan.iti.gr:443/dataset/c1c0f021-7cb9-47fa-bc1f-f8bb91f3680a/resource/a196485f-0c59-43e2-b1a4-db111129ea09/download/vehicle_traffic.csv'}, {'name': 'vehicle_traffic_en.csv', 'format': 'CSV', 'url': 'https://reallocate-ckan.iti.gr:443/dataset/c1c0f021-7cb9-47fa-bc1f-f8bb91f3680a/resource/780ee5b1-3076-4de6-a052-51a6902d1ad5/download/vehicle_traffic_en.csv'}]}, {'title': 'Tampere pedestrian and cyclist traffic', 'name': 'tampere-pedestrian-and-cyclist-traffic', 'resources': [{'name': 'pedestrian.csv', 'format': 'CSV', 'url': 'https://reallocate-ckan.iti.gr:443/dataset/1ae327ac-347a-4877-9c53-a5594c34d6d3/resource/b850e5be-d71a-425e-af06-f2655d1caa20/download/pedestrian.csv'}, {'name': 'pedestrian_en.csv', 'format': 'CSV', 'url': 'https://reallocate-ckan.iti.gr:443/dataset/1ae327ac-347a-4877-9c53-a5594c34d6d3/resource/79216bf6-a27d-4b3f-a210-2637603d4af1/download/pedestrian_en.csv'}]}]), ('ucd', []), ('utrecht', []), ('warsaw', [{'title': 'Traffic Measurement on Koncertowa Street, Warsaw', 'name': 'traffic-measurement-from-may-2024-on-koncertowa-street', 'resources': [{'name': 'Traffic measurement Koncertowa 8 Street May 2024', 'format': 'PDF', 'url': 'https://reallocate-ckan.iti.gr:443/dataset/c5fc0db3-f8f0-4b5f-b084-4dcf6fa9d360/resource/a0019cdf-46ca-4fcd-ac37-39045d4ecf93/download/pomiary-ruchu-ul.-koncertowa-kwieciemaj-2024.pdf'}, {'name': 'Traffic measurement Koncertowa 4 Street April 2024 ', 'format': 'XLSX', 'url': 'https://reallocate-ckan.iti.gr:443/dataset/c5fc0db3-f8f0-4b5f-b084-4dcf6fa9d360/resource/31fab9b8-345e-4a97-972c-874425b0ca7a/download/koncertowa_kwiecien-2024_opracowane.xlsx'}, {'name': 'Traffic measurement Koncertowa 4 Street September 2023', 'format': 'XLSX', 'url': 'https://reallocate-ckan.iti.gr:443/dataset/c5fc0db3-f8f0-4b5f-b084-4dcf6fa9d360/resource/89e20d72-7ad5-4da5-81f0-88c433fe7ab9/download/pomiary_koncertowa_09.2023.xlsx'}]}]), ('zagreb', [])])"
      ]
     },
     "execution_count": 89,
     "metadata": {},
     "output_type": "execute_result"
    }
   ],
   "source": [
    "all_data.items()"
   ]
  },
  {
   "cell_type": "code",
   "execution_count": 90,
   "id": "5009f9bc",
   "metadata": {},
   "outputs": [
    {
     "name": "stdout",
     "output_type": "stream",
     "text": [
      "\n",
      "📁 Organization: bkk\n",
      "  📄 Dataset: Megyeri Road school modal split study\n",
      "    🔗 Resource: Megyeri road school modal split data (PPT)\n",
      "  📄 Dataset: EFM Unified traffic model\n",
      "    🔗 Resource: EFM-Unified traffic model (JPEG)\n",
      "  📄 Dataset: Hospital data\n",
      "    🔗 Resource: Hospital_data.xlsx (XLSX)\n",
      "  📄 Dataset: Baross road traffic data\n",
      "    🔗 Resource: Baross road traffic data (PPT)\n",
      "\n",
      "📁 Organization: bsc\n",
      "\n",
      "📁 Organization: barcelona\n",
      "  📄 Dataset: Bicing service use of the city of Barcelona from August 2018 to March 2019\n",
      "    🔗 Resource: us-del-servei-bicing ()\n",
      "  📄 Dataset: Vehicles involved in accidents handled by the police in the city of Barcelona\n",
      "    🔗 Resource: 2023_accidents_vehicles_gu_bcn.csv (CSV)\n",
      "      ✅ Loaded 14361 rows\n",
      "  📄 Dataset: Traffic state information by sections of the city of Barcelona\n",
      "    🔗 Resource: ec409c44-6a07-411d-8f53-efb5c1b7e989 ()\n",
      "  📄 Dataset: Survey of Municipal Services 2024\n",
      "    🔗 Resource: Survey of Municipal Services 2024 (CSV)\n",
      "      ✅ Loaded 6000 rows\n",
      "\n",
      "📁 Organization: bologna\n",
      "\n",
      "📁 Organization: budapest\n",
      "\n",
      "📁 Organization: certh\n",
      "\n",
      "📁 Organization: cerema\n",
      "\n",
      "📁 Organization: dekra\n",
      "\n",
      "📁 Organization: ertico\n",
      "\n",
      "📁 Organization: gothenburg\n",
      "\n",
      "📁 Organization: heidelberg\n",
      "\n",
      "📁 Organization: lyon\n",
      "\n",
      "📁 Organization: tampere\n",
      "  📄 Dataset: Tampere vehicle traffic\n",
      "    🔗 Resource: vehicle_traffic.csv (CSV)\n",
      "      ✅ Loaded 123 rows\n",
      "    🔗 Resource: vehicle_traffic_en.csv (CSV)\n",
      "      ✅ Loaded 123 rows\n",
      "  📄 Dataset: Tampere pedestrian and cyclist traffic\n",
      "    🔗 Resource: pedestrian.csv (CSV)\n",
      "      ✅ Loaded 152 rows\n",
      "    🔗 Resource: pedestrian_en.csv (CSV)\n",
      "      ✅ Loaded 152 rows\n",
      "\n",
      "📁 Organization: ucd\n",
      "\n",
      "📁 Organization: utrecht\n",
      "\n",
      "📁 Organization: warsaw\n",
      "  📄 Dataset: Traffic Measurement on Koncertowa Street, Warsaw\n",
      "    🔗 Resource: Traffic measurement Koncertowa 8 Street May 2024 (PDF)\n",
      "    🔗 Resource: Traffic measurement Koncertowa 4 Street April 2024  (XLSX)\n",
      "    🔗 Resource: Traffic measurement Koncertowa 4 Street September 2023 (XLSX)\n",
      "\n",
      "📁 Organization: zagreb\n"
     ]
    }
   ],
   "source": [
    "import pandas as pd\n",
    "\n",
    "for org, datasets in all_data.items():\n",
    "    print(f\"\\n📁 Organization: {org}\")\n",
    "    for ds in datasets:\n",
    "        print(f\"  📄 Dataset: {ds['title']}\")\n",
    "        for res in ds['resources']:\n",
    "            print(f\"    🔗 Resource: {res['name']} ({res['format']})\")\n",
    "            if res['format'].lower() == 'csv':\n",
    "                try:\n",
    "                    df = pd.read_csv(res['url'])\n",
    "                    print(f\"      ✅ Loaded {len(df)} rows\")\n",
    "                    # You can now store/save/analyze `df`\n",
    "                except Exception as e:\n",
    "                    print(f\"      ❌ Failed to read CSV: {e}\")\n"
   ]
  },
  {
   "cell_type": "code",
   "execution_count": 91,
   "id": "59b6f985",
   "metadata": {},
   "outputs": [
    {
     "data": {
      "text/html": [
       "<div>\n",
       "<style scoped>\n",
       "    .dataframe tbody tr th:only-of-type {\n",
       "        vertical-align: middle;\n",
       "    }\n",
       "\n",
       "    .dataframe tbody tr th {\n",
       "        vertical-align: top;\n",
       "    }\n",
       "\n",
       "    .dataframe thead th {\n",
       "        text-align: right;\n",
       "    }\n",
       "</style>\n",
       "<table border=\"1\" class=\"dataframe\">\n",
       "  <thead>\n",
       "    <tr style=\"text-align: right;\">\n",
       "      <th></th>\n",
       "      <th>sequence_id</th>\n",
       "      <th>municipality</th>\n",
       "      <th>location</th>\n",
       "      <th>location_type</th>\n",
       "      <th>counting_method</th>\n",
       "      <th>date</th>\n",
       "      <th>morning_peak_hour_cyclists</th>\n",
       "      <th>morning_peak_hour_pedestrians</th>\n",
       "      <th>morning_peak_hour_total</th>\n",
       "      <th>evening_peak_hour_cyclists</th>\n",
       "      <th>evening_peak_hour_pedestrians</th>\n",
       "      <th>evening_peak_hour_total</th>\n",
       "      <th>daily_total_cyclists</th>\n",
       "      <th>daily_total_pedestrians</th>\n",
       "      <th>daily_total_total</th>\n",
       "      <th>speed_limit</th>\n",
       "      <th>average_speed_pedestrians</th>\n",
       "      <th>percentile_85_speed_pedestrians</th>\n",
       "      <th>result_expired</th>\n",
       "      <th>note</th>\n",
       "    </tr>\n",
       "  </thead>\n",
       "  <tbody>\n",
       "    <tr>\n",
       "      <th>0</th>\n",
       "      <td>293.0</td>\n",
       "      <td>837.0</td>\n",
       "      <td>Mäyränmäenkatu</td>\n",
       "      <td>Pent</td>\n",
       "      <td>Video calculation</td>\n",
       "      <td>2018-06-12z</td>\n",
       "      <td>NaN</td>\n",
       "      <td>NaN</td>\n",
       "      <td>NaN</td>\n",
       "      <td>6.0</td>\n",
       "      <td>37.0</td>\n",
       "      <td>43.0</td>\n",
       "      <td>NaN</td>\n",
       "      <td>NaN</td>\n",
       "      <td>NaN</td>\n",
       "      <td>NaN</td>\n",
       "      <td>NaN</td>\n",
       "      <td>NaN</td>\n",
       "      <td>Yes</td>\n",
       "      <td>NaN</td>\n",
       "    </tr>\n",
       "    <tr>\n",
       "      <th>1</th>\n",
       "      <td>295.0</td>\n",
       "      <td>837.0</td>\n",
       "      <td>Mäyränmäenkatu</td>\n",
       "      <td>Carriageway</td>\n",
       "      <td>Video calculation</td>\n",
       "      <td>2018-06-12z</td>\n",
       "      <td>NaN</td>\n",
       "      <td>NaN</td>\n",
       "      <td>NaN</td>\n",
       "      <td>0.0</td>\n",
       "      <td>2.0</td>\n",
       "      <td>2.0</td>\n",
       "      <td>NaN</td>\n",
       "      <td>NaN</td>\n",
       "      <td>NaN</td>\n",
       "      <td>NaN</td>\n",
       "      <td>NaN</td>\n",
       "      <td>NaN</td>\n",
       "      <td>Yes</td>\n",
       "      <td>NaN</td>\n",
       "    </tr>\n",
       "    <tr>\n",
       "      <th>2</th>\n",
       "      <td>296.0</td>\n",
       "      <td>837.0</td>\n",
       "      <td>Vuores Park Street</td>\n",
       "      <td>Pent</td>\n",
       "      <td>Video calculation</td>\n",
       "      <td>2018-06-12z</td>\n",
       "      <td>NaN</td>\n",
       "      <td>NaN</td>\n",
       "      <td>NaN</td>\n",
       "      <td>24.0</td>\n",
       "      <td>13.0</td>\n",
       "      <td>37.0</td>\n",
       "      <td>NaN</td>\n",
       "      <td>NaN</td>\n",
       "      <td>NaN</td>\n",
       "      <td>NaN</td>\n",
       "      <td>NaN</td>\n",
       "      <td>NaN</td>\n",
       "      <td>Yes</td>\n",
       "      <td>NaN</td>\n",
       "    </tr>\n",
       "    <tr>\n",
       "      <th>3</th>\n",
       "      <td>297.0</td>\n",
       "      <td>837.0</td>\n",
       "      <td>Vuores Park Street</td>\n",
       "      <td>Carriageway</td>\n",
       "      <td>Video calculation</td>\n",
       "      <td>2018-06-12z</td>\n",
       "      <td>NaN</td>\n",
       "      <td>NaN</td>\n",
       "      <td>NaN</td>\n",
       "      <td>0.0</td>\n",
       "      <td>0.0</td>\n",
       "      <td>0.0</td>\n",
       "      <td>NaN</td>\n",
       "      <td>NaN</td>\n",
       "      <td>NaN</td>\n",
       "      <td>NaN</td>\n",
       "      <td>NaN</td>\n",
       "      <td>NaN</td>\n",
       "      <td>Yes</td>\n",
       "      <td>NaN</td>\n",
       "    </tr>\n",
       "    <tr>\n",
       "      <th>4</th>\n",
       "      <td>298.0</td>\n",
       "      <td>837.0</td>\n",
       "      <td>Vuores Park Street</td>\n",
       "      <td>Pent</td>\n",
       "      <td>Video calculation</td>\n",
       "      <td>2018-06-12z</td>\n",
       "      <td>NaN</td>\n",
       "      <td>NaN</td>\n",
       "      <td>NaN</td>\n",
       "      <td>18.0</td>\n",
       "      <td>18.0</td>\n",
       "      <td>36.0</td>\n",
       "      <td>NaN</td>\n",
       "      <td>NaN</td>\n",
       "      <td>NaN</td>\n",
       "      <td>NaN</td>\n",
       "      <td>NaN</td>\n",
       "      <td>NaN</td>\n",
       "      <td>Yes</td>\n",
       "      <td>NaN</td>\n",
       "    </tr>\n",
       "    <tr>\n",
       "      <th>...</th>\n",
       "      <td>...</td>\n",
       "      <td>...</td>\n",
       "      <td>...</td>\n",
       "      <td>...</td>\n",
       "      <td>...</td>\n",
       "      <td>...</td>\n",
       "      <td>...</td>\n",
       "      <td>...</td>\n",
       "      <td>...</td>\n",
       "      <td>...</td>\n",
       "      <td>...</td>\n",
       "      <td>...</td>\n",
       "      <td>...</td>\n",
       "      <td>...</td>\n",
       "      <td>...</td>\n",
       "      <td>...</td>\n",
       "      <td>...</td>\n",
       "      <td>...</td>\n",
       "      <td>...</td>\n",
       "      <td>...</td>\n",
       "    </tr>\n",
       "    <tr>\n",
       "      <th>147</th>\n",
       "      <td>7933.0</td>\n",
       "      <td>837.0</td>\n",
       "      <td>Vuores Park Street</td>\n",
       "      <td>Zebra crossing</td>\n",
       "      <td>Ecocounter to move</td>\n",
       "      <td>2024-10-23z</td>\n",
       "      <td>NaN</td>\n",
       "      <td>NaN</td>\n",
       "      <td>37.0</td>\n",
       "      <td>NaN</td>\n",
       "      <td>NaN</td>\n",
       "      <td>49.0</td>\n",
       "      <td>NaN</td>\n",
       "      <td>NaN</td>\n",
       "      <td>513.0</td>\n",
       "      <td>NaN</td>\n",
       "      <td>NaN</td>\n",
       "      <td>NaN</td>\n",
       "      <td>No</td>\n",
       "      <td>NaN</td>\n",
       "    </tr>\n",
       "    <tr>\n",
       "      <th>148</th>\n",
       "      <td>7934.0</td>\n",
       "      <td>837.0</td>\n",
       "      <td>Vuores Park Street</td>\n",
       "      <td>Zebra crossing</td>\n",
       "      <td>Ecocounter to move</td>\n",
       "      <td>2024-10-22z</td>\n",
       "      <td>NaN</td>\n",
       "      <td>NaN</td>\n",
       "      <td>10.0</td>\n",
       "      <td>NaN</td>\n",
       "      <td>NaN</td>\n",
       "      <td>26.0</td>\n",
       "      <td>NaN</td>\n",
       "      <td>NaN</td>\n",
       "      <td>156.0</td>\n",
       "      <td>NaN</td>\n",
       "      <td>NaN</td>\n",
       "      <td>NaN</td>\n",
       "      <td>Yes</td>\n",
       "      <td>NaN</td>\n",
       "    </tr>\n",
       "    <tr>\n",
       "      <th>149</th>\n",
       "      <td>7935.0</td>\n",
       "      <td>837.0</td>\n",
       "      <td>Vuores Park Street</td>\n",
       "      <td>Zebra crossing</td>\n",
       "      <td>Ecocounter to move</td>\n",
       "      <td>2024-10-23z</td>\n",
       "      <td>NaN</td>\n",
       "      <td>NaN</td>\n",
       "      <td>6.0</td>\n",
       "      <td>NaN</td>\n",
       "      <td>NaN</td>\n",
       "      <td>24.0</td>\n",
       "      <td>NaN</td>\n",
       "      <td>NaN</td>\n",
       "      <td>171.0</td>\n",
       "      <td>NaN</td>\n",
       "      <td>NaN</td>\n",
       "      <td>NaN</td>\n",
       "      <td>No</td>\n",
       "      <td>NaN</td>\n",
       "    </tr>\n",
       "    <tr>\n",
       "      <th>150</th>\n",
       "      <td>7936.0</td>\n",
       "      <td>837.0</td>\n",
       "      <td>Vuores Park Street</td>\n",
       "      <td>Zebra crossing</td>\n",
       "      <td>Ecocounter to move</td>\n",
       "      <td>2024-10-22z</td>\n",
       "      <td>NaN</td>\n",
       "      <td>NaN</td>\n",
       "      <td>7.0</td>\n",
       "      <td>NaN</td>\n",
       "      <td>NaN</td>\n",
       "      <td>33.0</td>\n",
       "      <td>NaN</td>\n",
       "      <td>NaN</td>\n",
       "      <td>163.0</td>\n",
       "      <td>NaN</td>\n",
       "      <td>NaN</td>\n",
       "      <td>NaN</td>\n",
       "      <td>Yes</td>\n",
       "      <td>NaN</td>\n",
       "    </tr>\n",
       "    <tr>\n",
       "      <th>151</th>\n",
       "      <td>7937.0</td>\n",
       "      <td>837.0</td>\n",
       "      <td>Vuores Park Street</td>\n",
       "      <td>Zebra crossing</td>\n",
       "      <td>Ecocounter to move</td>\n",
       "      <td>2024-10-23z</td>\n",
       "      <td>NaN</td>\n",
       "      <td>NaN</td>\n",
       "      <td>6.0</td>\n",
       "      <td>NaN</td>\n",
       "      <td>NaN</td>\n",
       "      <td>23.0</td>\n",
       "      <td>NaN</td>\n",
       "      <td>NaN</td>\n",
       "      <td>145.0</td>\n",
       "      <td>NaN</td>\n",
       "      <td>NaN</td>\n",
       "      <td>NaN</td>\n",
       "      <td>No</td>\n",
       "      <td>NaN</td>\n",
       "    </tr>\n",
       "  </tbody>\n",
       "</table>\n",
       "<p>152 rows × 20 columns</p>\n",
       "</div>"
      ],
      "text/plain": [
       "     sequence_id   municipality            location   location_type  \\\n",
       "0          293.0          837.0      Mäyränmäenkatu            Pent   \n",
       "1          295.0          837.0      Mäyränmäenkatu     Carriageway   \n",
       "2          296.0          837.0  Vuores Park Street            Pent   \n",
       "3          297.0          837.0  Vuores Park Street     Carriageway   \n",
       "4          298.0          837.0  Vuores Park Street            Pent   \n",
       "..           ...            ...                 ...             ...   \n",
       "147       7933.0          837.0  Vuores Park Street  Zebra crossing   \n",
       "148       7934.0          837.0  Vuores Park Street  Zebra crossing   \n",
       "149       7935.0          837.0  Vuores Park Street  Zebra crossing   \n",
       "150       7936.0          837.0  Vuores Park Street  Zebra crossing   \n",
       "151       7937.0          837.0  Vuores Park Street  Zebra crossing   \n",
       "\n",
       "        counting_method         date   morning_peak_hour_cyclists  \\\n",
       "0     Video calculation  2018-06-12z                          NaN   \n",
       "1     Video calculation  2018-06-12z                          NaN   \n",
       "2     Video calculation  2018-06-12z                          NaN   \n",
       "3     Video calculation  2018-06-12z                          NaN   \n",
       "4     Video calculation  2018-06-12z                          NaN   \n",
       "..                  ...          ...                          ...   \n",
       "147  Ecocounter to move  2024-10-23z                          NaN   \n",
       "148  Ecocounter to move  2024-10-22z                          NaN   \n",
       "149  Ecocounter to move  2024-10-23z                          NaN   \n",
       "150  Ecocounter to move  2024-10-22z                          NaN   \n",
       "151  Ecocounter to move  2024-10-23z                          NaN   \n",
       "\n",
       "      morning_peak_hour_pedestrians   morning_peak_hour_total  \\\n",
       "0                               NaN                       NaN   \n",
       "1                               NaN                       NaN   \n",
       "2                               NaN                       NaN   \n",
       "3                               NaN                       NaN   \n",
       "4                               NaN                       NaN   \n",
       "..                              ...                       ...   \n",
       "147                             NaN                      37.0   \n",
       "148                             NaN                      10.0   \n",
       "149                             NaN                       6.0   \n",
       "150                             NaN                       7.0   \n",
       "151                             NaN                       6.0   \n",
       "\n",
       "      evening_peak_hour_cyclists   evening_peak_hour_pedestrians  \\\n",
       "0                            6.0                            37.0   \n",
       "1                            0.0                             2.0   \n",
       "2                           24.0                            13.0   \n",
       "3                            0.0                             0.0   \n",
       "4                           18.0                            18.0   \n",
       "..                           ...                             ...   \n",
       "147                          NaN                             NaN   \n",
       "148                          NaN                             NaN   \n",
       "149                          NaN                             NaN   \n",
       "150                          NaN                             NaN   \n",
       "151                          NaN                             NaN   \n",
       "\n",
       "      evening_peak_hour_total   daily_total_cyclists  \\\n",
       "0                        43.0                    NaN   \n",
       "1                         2.0                    NaN   \n",
       "2                        37.0                    NaN   \n",
       "3                         0.0                    NaN   \n",
       "4                        36.0                    NaN   \n",
       "..                        ...                    ...   \n",
       "147                      49.0                    NaN   \n",
       "148                      26.0                    NaN   \n",
       "149                      24.0                    NaN   \n",
       "150                      33.0                    NaN   \n",
       "151                      23.0                    NaN   \n",
       "\n",
       "      daily_total_pedestrians   daily_total_total   speed_limit  \\\n",
       "0                         NaN                 NaN           NaN   \n",
       "1                         NaN                 NaN           NaN   \n",
       "2                         NaN                 NaN           NaN   \n",
       "3                         NaN                 NaN           NaN   \n",
       "4                         NaN                 NaN           NaN   \n",
       "..                        ...                 ...           ...   \n",
       "147                       NaN               513.0           NaN   \n",
       "148                       NaN               156.0           NaN   \n",
       "149                       NaN               171.0           NaN   \n",
       "150                       NaN               163.0           NaN   \n",
       "151                       NaN               145.0           NaN   \n",
       "\n",
       "      average_speed_pedestrians   percentile_85_speed_pedestrians  \\\n",
       "0                           NaN                               NaN   \n",
       "1                           NaN                               NaN   \n",
       "2                           NaN                               NaN   \n",
       "3                           NaN                               NaN   \n",
       "4                           NaN                               NaN   \n",
       "..                          ...                               ...   \n",
       "147                         NaN                               NaN   \n",
       "148                         NaN                               NaN   \n",
       "149                         NaN                               NaN   \n",
       "150                         NaN                               NaN   \n",
       "151                         NaN                               NaN   \n",
       "\n",
       "     result_expired   note  \n",
       "0               Yes    NaN  \n",
       "1               Yes    NaN  \n",
       "2               Yes    NaN  \n",
       "3               Yes    NaN  \n",
       "4               Yes    NaN  \n",
       "..              ...    ...  \n",
       "147              No    NaN  \n",
       "148             Yes    NaN  \n",
       "149              No    NaN  \n",
       "150             Yes    NaN  \n",
       "151              No    NaN  \n",
       "\n",
       "[152 rows x 20 columns]"
      ]
     },
     "execution_count": 91,
     "metadata": {},
     "output_type": "execute_result"
    }
   ],
   "source": [
    "df"
   ]
  },
  {
   "cell_type": "markdown",
   "id": "5c6701e2",
   "metadata": {},
   "source": [
    "## Pilot cities"
   ]
  },
  {
   "cell_type": "markdown",
   "id": "7e493260",
   "metadata": {},
   "source": [
    "### Barcelona"
   ]
  },
  {
   "cell_type": "markdown",
   "id": "cc666c2b",
   "metadata": {},
   "source": [
    "#### Pilot 1 - Pedestrians, cyclists & micro-mobility vehicles in shared spaces"
   ]
  },
  {
   "cell_type": "markdown",
   "id": "75d3d586",
   "metadata": {},
   "source": [
    "**KPIs** \n",
    "* KPI #1 - Increases in pedestrians + cyclists (numbers)\n",
    "* KPI #2 - Pedestrian & disabled comfort (reduced risks; walking dstance/time; shade, walkable conditions) (% from baseline)\n",
    "* KPI #3 - Cycling & e-bike comfort (reduced cycle waiting time, increased bike parkings, etc.) (% from baseline)\n",
    "* KPI #5 - Reallocation of public space (sqm/year)\n",
    "* KPI #6 - Conversion from impermeable to permeable/vegetated surface (sqm + no. of trees planted)\n",
    "* KPI #10 - Extendibility - Replicability of the intervention (% extendable/ replicable)"
   ]
  },
  {
   "cell_type": "code",
   "execution_count": 92,
   "id": "92a09273",
   "metadata": {},
   "outputs": [
    {
     "name": "stdout",
     "output_type": "stream",
     "text": [
      "Dataset: Bicing service use of the city of Barcelona from August 2018 to March 2019\n",
      "    🔗 Resource: us-del-servei-bicing ()\n",
      "      URL: https://opendata-ajuntament.barcelona.cat/data/en/dataset/us-del-servei-bicing\n",
      "Dataset: Vehicles involved in accidents handled by the police in the city of Barcelona\n",
      "    🔗 Resource: 2023_accidents_vehicles_gu_bcn.csv (CSV)\n",
      "      URL: https://reallocate-ckan.iti.gr:443/dataset/8ffbf107-042b-41c9-9a6e-a7119bce5d63/resource/8e0da597-8a35-4cd4-b35e-b46b0033a748/download/2023_accidents_vehicles_gu_bcn.csv\n",
      "Dataset: Traffic state information by sections of the city of Barcelona\n",
      "    🔗 Resource: ec409c44-6a07-411d-8f53-efb5c1b7e989 ()\n",
      "      URL: https://opendata-ajuntament.barcelona.cat/data/en/dataset/trams/resource/ec409c44-6a07-411d-8f53-efb5c1b7e989\n",
      "Dataset: Survey of Municipal Services 2024\n",
      "    🔗 Resource: Survey of Municipal Services 2024 (CSV)\n",
      "      URL: https://reallocate-ckan.iti.gr:443/dataset/10c6b922-3f58-4bef-ae42-b45e9bb19fd4/resource/d609c0d6-1b34-4913-b475-e26d76cbf231/download/r24003_serveis_municipals_bd_csvcodi_v1_0.csv\n"
     ]
    }
   ],
   "source": [
    "import pandas as pd\n",
    "\n",
    "org = 'barcelona'\n",
    "datasets = all_data.get(org, [])\n",
    "for ds in datasets:\n",
    "    print(f\"Dataset: {ds['title']}\")\n",
    "    for res in ds['resources']:\n",
    "        print(f\"    🔗 Resource: {res['name']} ({res['format']})\")\n",
    "        print(f\"      URL: {res['url']}\")\n",
    "    \n"
   ]
  },
  {
   "cell_type": "markdown",
   "id": "b65407d3",
   "metadata": {},
   "source": [
    "so for now it looks like we have two csv's available, and two links that take us to the OpendataBarcelona site"
   ]
  },
  {
   "cell_type": "code",
   "execution_count": null,
   "id": "8d080337",
   "metadata": {},
   "outputs": [],
   "source": []
  },
  {
   "cell_type": "markdown",
   "id": "d7124893",
   "metadata": {},
   "source": [
    "#### Pilot 2 - Increased & integrated public transport accessibility for people with disabilities"
   ]
  },
  {
   "cell_type": "markdown",
   "id": "3bc61d1d",
   "metadata": {},
   "source": [
    "**KPIs** \n",
    "* KPI #1 - Increases in pedestrians + cyclists (numbers)\n",
    "* KPI #2 - Pedestrian & disabled comfort (reduced risks; walking dstance/time; shade, walkable conditions) (% from baseline)\n",
    "* KPI #3 - Cycling & e-bike comfort (reduced cycle waiting time, increased bike parkings, etc.) (% from baseline)\n",
    "* KPI #4 - VRUs/user interactions improvements (AI modelled - reduced near misses, responsive traffic lights, etc.)\n",
    "* KPI #5 - Reallocation of public space (sqm/year)\n",
    "* KPI #10 - Extendibility - Replicability of the intervention (% extendable/ replicable)\n",
    "* KPI #12 - Achievement of Climate Targets for Transport (% of achievement)"
   ]
  },
  {
   "cell_type": "markdown",
   "id": "61a3797d",
   "metadata": {},
   "source": [
    "### Bologna"
   ]
  },
  {
   "cell_type": "markdown",
   "id": "29a9c2d3",
   "metadata": {},
   "source": [
    "#### Pilot - safe & sustainable school district along the Knowledge Path"
   ]
  },
  {
   "cell_type": "markdown",
   "id": "2ffaa0ae",
   "metadata": {},
   "source": [
    "**KPIs** \n",
    "* KPI #1 - Increases in pedestrians + cyclists (numbers)\n",
    "* KPI #2 - Pedestrian & disabled comfort (reduced risks; walking dstance/time; shade, walkable conditions) (% from baseline)\n",
    "* KPI #3 - Cycling & e-bike comfort (reduced cycle waiting time, increased bike parkings, etc.) (% from baseline)\n",
    "* KPI #5 - Reallocation of public space (sqm/year)\n",
    "* KPI #6 - Conversion from impermeable to permeable/vegetated surface (sqm + no. of trees planted)\n",
    "* KPI #7 - Uptake/incorporation of Circular Economy principles (% from baseline)\n",
    "* KPI #10 - Extendibility - Replicability of the intervention (% extendable/ replicable)\n",
    "* KPI #12 - Achievement of Climate Targets for Transport (% of achievement)"
   ]
  },
  {
   "cell_type": "markdown",
   "id": "2b23ec15",
   "metadata": {},
   "source": [
    "### Budapest"
   ]
  },
  {
   "cell_type": "markdown",
   "id": "f4f71756",
   "metadata": {},
   "source": [
    "#### Pilot 1 - Introducing 'Healthy Superblocks"
   ]
  },
  {
   "cell_type": "markdown",
   "id": "443535f9",
   "metadata": {},
   "source": [
    "* KPI#1 - Increases in pedestrians + cyclists (numbers)\n",
    "* KPI#2 -Pedestrian & disabled comfort (reduced risks; walking dstance/time; shade, walkable conditions) (% from baseline)\n",
    "* KPI#3 -Cycling & e-bike comfort (reduced cycle waiting time, increased bike parkings, etc.) (% from baseline)\n",
    "* KPI#5 - Reallocation of public space (sqm/year)\n",
    "* KPI#6 - Conversion from impermeable to permeable/vegetated surface (sqm + no. of trees planted)\n",
    "* KPI#10 - Extendibility - Replicability of the intervention (% extendable/ replicable)\n"
   ]
  },
  {
   "cell_type": "markdown",
   "id": "f4f57503",
   "metadata": {},
   "source": [
    "#### Pilot 2 - Peri-urban traffic safety"
   ]
  },
  {
   "cell_type": "markdown",
   "id": "adcce967",
   "metadata": {},
   "source": [
    "* KPI#1 - Increases in pedestrians + cyclists (numbers)\n",
    "* KPI#2 -Pedestrian & disabled comfort (reduced risks; walking dstance/time; shade, walkable conditions) (% from baseline)\n",
    "* KPI#3 -Cycling & e-bike comfort (reduced cycle waiting time, increased bike parkings, etc.) (% from baseline)\n",
    "* KPI#4 - VRUs/user interactions improvements (AI modelled - reduced near misses, responsive traffic lights, etc.)\n",
    "* KPI#5 - Reallocation of public space (sqm/year)\n",
    "* KPI#10 - Extendibility - Replicability of the intervention (% extendable/ replicable)\n",
    "* KPI#12 - Achievement of Climate Targets for Transport (% of achievement)"
   ]
  },
  {
   "cell_type": "markdown",
   "id": "42e15766",
   "metadata": {},
   "source": []
  },
  {
   "cell_type": "markdown",
   "id": "db41ecce",
   "metadata": {},
   "source": []
  },
  {
   "cell_type": "markdown",
   "id": "f7e7205a",
   "metadata": {},
   "source": []
  },
  {
   "cell_type": "markdown",
   "id": "ba500859",
   "metadata": {},
   "source": []
  },
  {
   "cell_type": "markdown",
   "id": "de802bfb",
   "metadata": {},
   "source": [
    "### Gothenburg"
   ]
  },
  {
   "cell_type": "markdown",
   "id": "23303f67",
   "metadata": {},
   "source": [
    "#### Pilot 1 - Safe System Approach for children’s active travel in peri-urban areas"
   ]
  },
  {
   "cell_type": "markdown",
   "id": "e26fadee",
   "metadata": {},
   "source": [
    "* KPI#4 - VRUs/user interactions improvements (AI modelled - reduced near misses, responsive traffic lights, etc.)\n",
    "* KPI#10 - Extendibility - Replicability of the intervention (% extendable/ replicable)\n",
    "* KPI#12 - Achievement of Climate Targets for Transport (% of achievement)"
   ]
  },
  {
   "cell_type": "markdown",
   "id": "2326dbd0",
   "metadata": {},
   "source": [
    "#### Pilot 2 - Seamless travel, citizen engagement & nudging tools in a complex mobility hub"
   ]
  },
  {
   "cell_type": "markdown",
   "id": "5486f09f",
   "metadata": {},
   "source": [
    "* KPI#1 - Increases in pedestrians + cyclists (numbers)\n",
    "* KPI#2 -Pedestrian & disabled comfort (reduced risks; walking dstance/time; shade, walkable conditions) (% from baseline)\n",
    "* KPI#3 -Cycling & e-bike comfort (reduced cycle waiting time, increased bike parkings, etc.) (% from baseline)\n",
    "* KPI#4 - VRUs/user interactions improvements (AI modelled - reduced near misses, responsive traffic lights, etc.)\n",
    "* KPI#9 - Public acceptance of interventions (citizens + stakeholders) (% of persons asked)\n"
   ]
  },
  {
   "cell_type": "markdown",
   "id": "7024486d",
   "metadata": {},
   "source": [
    "### Heidelberg"
   ]
  },
  {
   "cell_type": "markdown",
   "id": "71f3daae",
   "metadata": {},
   "source": [
    "#### Pilot 1 - Regional commuter plans with mobility hubs"
   ]
  },
  {
   "cell_type": "markdown",
   "id": "b17bb5ac",
   "metadata": {},
   "source": [
    "* KPI#9 - Public acceptance of interventions (citizens + stakeholders) (% of persons asked)\n",
    "* KPI#10 - Extendibility - Replicability of the intervention (% extendable/ replicable)\n",
    "* KPI#12 - Achievement of Climate Targets for Transport (% of achievement)"
   ]
  },
  {
   "cell_type": "markdown",
   "id": "90e6ae0b",
   "metadata": {},
   "source": [
    "#### Pilot 2 - Contextual & tactical public space reallocation"
   ]
  },
  {
   "cell_type": "markdown",
   "id": "9037438b",
   "metadata": {},
   "source": [
    "* KPI#1 - Increases in pedestrians + cyclists (numbers)\n",
    "* KPI#2 -Pedestrian & disabled comfort (reduced risks; walking dstance/time; shade, walkable conditions) (% from baseline)\n",
    "* KPI#3 -Cycling & e-bike comfort (reduced cycle waiting time, increased bike parkings, etc.) (% from baseline)\n",
    "* KPI#4 - VRUs/user interactions improvements (AI modelled - reduced near misses, responsive traffic lights, etc.)\n",
    "* KPI#5 - Reallocation of public space (sqm/year)\n",
    "* KPI#6 - Conversion from impermeable to permeable/vegetated surface (sqm + no. of trees planted)\n",
    "* KPI#7 - Uptake/incorporation of Circular Economy principles (% from baseline)\n",
    "* KPI#9 - Public acceptance of interventions (citizens + stakeholders) (% of persons asked)\n",
    "* KPI#10 - Extendibility - Replicability of the intervention (% extendable/ replicable)\n",
    "* KPI#12 - Achievement of Climate Targets for Transport (% of achievement)"
   ]
  },
  {
   "cell_type": "markdown",
   "id": "bc4769d4",
   "metadata": {},
   "source": [
    "### Lyon"
   ]
  },
  {
   "cell_type": "markdown",
   "id": "6f867c26",
   "metadata": {},
   "source": [
    "#### Pilot 1 - Safety measures for 'Vision-Zero' in the school areas"
   ]
  },
  {
   "cell_type": "markdown",
   "id": "ba2abc89",
   "metadata": {},
   "source": [
    "* KPI#1 - Increases in pedestrians + cyclists (numbers)\n",
    "* KPI#2 -Pedestrian & disabled comfort (reduced risks; walking dstance/time; shade, walkable conditions) (% from baseline)\n",
    "* KPI#3 -Cycling & e-bike comfort (reduced cycle waiting time, increased bike parkings, etc.) (% from baseline)\n",
    "* KPI#4 - VRUs/user interactions improvements (AI modelled - reduced near misses, responsive traffic lights, etc.)\n",
    "* KPI#5 - Reallocation of public space (sqm/year)\n",
    "* KPI#6 - Conversion from impermeable to permeable/vegetated surface (sqm + no. of trees planted)\n",
    "* KPI#10 - Extendibility - Replicability of the intervention (% extendable/ replicable)\n"
   ]
  },
  {
   "cell_type": "markdown",
   "id": "51cc7189",
   "metadata": {},
   "source": [
    "#### Pilot 2 - Road safety technology & non-polluting parking policy"
   ]
  },
  {
   "cell_type": "markdown",
   "id": "1511ec89",
   "metadata": {},
   "source": [
    "* KPI#9 - Public acceptance of interventions (citizens + stakeholders) (% of persons asked)\n",
    "* KPI#12 - Achievement of Climate Targets for Transport (% of achievement)"
   ]
  },
  {
   "cell_type": "markdown",
   "id": "59f120f9",
   "metadata": {},
   "source": [
    "### Tampere"
   ]
  },
  {
   "cell_type": "markdown",
   "id": "8c1063bf",
   "metadata": {},
   "source": [
    "#### Pilot - AI for increased road safety, space reallocation & parametric design"
   ]
  },
  {
   "cell_type": "markdown",
   "id": "bb6afe03",
   "metadata": {},
   "source": [
    "* KPI#1 - Increases in pedestrians + cyclists (numbers)\n",
    "* KPI#2 -Pedestrian & disabled comfort (reduced risks; walking dstance/time; shade, walkable conditions) (% from baseline)\n",
    "* KPI#3 -Cycling & e-bike comfort (reduced cycle waiting time, increased bike parkings, etc.) (% from baseline)\n",
    "* KPI#4 - VRUs/user interactions improvements (AI modelled - reduced near misses, responsive traffic lights, etc.)\n",
    "* KPI#5 - Reallocation of public space (sqm/year)\n",
    "* KPI#9 - Public acceptance of interventions (citizens + stakeholders) (% of persons asked)\n",
    "* KPI#10 - Extendibility - Replicability of the intervention (% extendable/ replicable)\n"
   ]
  },
  {
   "cell_type": "markdown",
   "id": "f5e884a6",
   "metadata": {},
   "source": []
  },
  {
   "cell_type": "markdown",
   "id": "78881a85",
   "metadata": {},
   "source": [
    "### Utrecht"
   ]
  },
  {
   "cell_type": "markdown",
   "id": "e77dde4c",
   "metadata": {},
   "source": [
    "#### Pilot - Safety-proofing schools in vulnerable neighbourhoods"
   ]
  },
  {
   "cell_type": "markdown",
   "id": "47f888ff",
   "metadata": {},
   "source": [
    "* KPI#1 - Increases in pedestrians + cyclists (numbers)\n",
    "* KPI#2 -Pedestrian & disabled comfort (reduced risks; walking dstance/time; shade, walkable conditions) (% from baseline)\n",
    "* KPI#3 -Cycling & e-bike comfort (reduced cycle waiting time, increased bike parkings, etc.) (% from baseline)\n",
    "* KPI#4 - VRUs/user interactions improvements (AI modelled - reduced near misses, responsive traffic lights, etc.)\n",
    "* KPI#5 - Reallocation of public space (sqm/year)\n",
    "* KPI#6 - Conversion from impermeable to permeable/vegetated surface (sqm + no. of trees planted)\n",
    "* KPI#8 - Engagement (no. of people engaged in co-creation/co-management)\n",
    "* KPI#9 - Public acceptance of interventions (citizens + stakeholders) (% of persons asked)\n",
    "* KPI#10 - Extendibility - Replicability of the intervention (% extendable/ replicable)\n"
   ]
  },
  {
   "cell_type": "markdown",
   "id": "498a0c8d",
   "metadata": {},
   "source": [
    "### Warsaw"
   ]
  },
  {
   "cell_type": "markdown",
   "id": "6be94632",
   "metadata": {},
   "source": [
    "#### Pilot - Warsaw’s green & safe road to school"
   ]
  },
  {
   "cell_type": "markdown",
   "id": "e5480350",
   "metadata": {},
   "source": [
    "* KPI#1 - Increases in pedestrians + cyclists (numbers)\n",
    "* KPI#2 -Pedestrian & disabled comfort (reduced risks; walking dstance/time; shade, walkable conditions) (% from baseline)\n",
    "* KPI#3 -Cycling & e-bike comfort (reduced cycle waiting time, increased bike parkings, etc.) (% from baseline)\n",
    "* KPI#4 - VRUs/user interactions improvements (AI modelled - reduced near misses, responsive traffic lights, etc.)\n",
    "* KPI#5 - Reallocation of public space (sqm/year)\n",
    "* KPI#6 - Conversion from impermeable to permeable/vegetated surface (sqm + no. of trees planted)\n",
    "* KPI#7 - Uptake/incorporation of Circular Economy principles (% from baseline)\n",
    "* KPI#8 - Engagement (no. of people engaged in co-creation/co-management)\n",
    "* KPI#9 - Public acceptance of interventions (citizens + stakeholders) (% of persons asked)\n",
    "* KPI#10 - Extendibility - Replicability of the intervention (% extendable/ replicable)\n",
    "* KPI#12 - Achievement of Climate Targets for Transport (% of achievement)"
   ]
  },
  {
   "cell_type": "markdown",
   "id": "92a3da50",
   "metadata": {},
   "source": [
    "### Zagreb"
   ]
  },
  {
   "cell_type": "markdown",
   "id": "d62f7332",
   "metadata": {},
   "source": [
    "#### Pilot - holistic solutions for the Central traffic corridor"
   ]
  },
  {
   "cell_type": "markdown",
   "id": "16c8e0f2",
   "metadata": {},
   "source": [
    "* KPI#1 - Increases in pedestrians + cyclists (numbers)\n",
    "* KPI#2 -Pedestrian & disabled comfort (reduced risks; walking dstance/time; shade, walkable conditions) (% from baseline)\n",
    "* KPI#3 -Cycling & e-bike comfort (reduced cycle waiting time, increased bike parkings, etc.) (% from baseline)\n",
    "* KPI#5 - Reallocation of public space (sqm/year)\n",
    "* KPI#6 - Conversion from impermeable to permeable/vegetated surface (sqm + no. of trees planted)\n",
    "* KPI#7 - Uptake/incorporation of Circular Economy principles (% from baseline)\n",
    "* KPI#10 - Extendibility - Replicability of the intervention (% extendable/ replicable)\n",
    "* KPI#12 - Achievement of Climate Targets for Transport (% of achievement)"
   ]
  },
  {
   "cell_type": "markdown",
   "id": "add2e0e1",
   "metadata": {},
   "source": [
    "### BKK (Budapest)\n",
    "### BSC\n",
    "### CERTH\n",
    "### Cerema\n",
    "### DEKRA\n",
    "### Ertico\n",
    "### UCD\n",
    "\n"
   ]
  },
  {
   "cell_type": "code",
   "execution_count": null,
   "id": "95207633",
   "metadata": {},
   "outputs": [],
   "source": []
  },
  {
   "cell_type": "markdown",
   "id": "6f7e95c1",
   "metadata": {},
   "source": [
    "fetch_ckan_data(API_KEY, BASE_URL)"
   ]
  },
  {
   "cell_type": "code",
   "execution_count": null,
   "id": "4cbc3245",
   "metadata": {},
   "outputs": [],
   "source": []
  },
  {
   "cell_type": "code",
   "execution_count": 25,
   "id": "07d1c26d",
   "metadata": {},
   "outputs": [
    {
     "data": {
      "text/plain": [
       "{'help': 'https://reallocate-ckan.iti.gr:443/api/3/action/help_show?name=group_list',\n",
       " 'success': True,\n",
       " 'result': ['barcelona-pilot-1',\n",
       "  'barcelona-pilot-2',\n",
       "  'budapest-pilot-1',\n",
       "  'budapest-pilot-2',\n",
       "  'certh-testing',\n",
       "  'gothenburg-pilot-1',\n",
       "  'gothenburg-pilot-2',\n",
       "  'heidelberg-pilot-1',\n",
       "  'heidelberg-pilot-2',\n",
       "  'lyon-pilot-1',\n",
       "  'lyon-pilot-2',\n",
       "  'reallocate']}"
      ]
     },
     "execution_count": 25,
     "metadata": {},
     "output_type": "execute_result"
    }
   ],
   "source": [
    "response_dict"
   ]
  }
 ],
 "metadata": {
  "kernelspec": {
   "display_name": "reallocate",
   "language": "python",
   "name": "python3"
  },
  "language_info": {
   "codemirror_mode": {
    "name": "ipython",
    "version": 3
   },
   "file_extension": ".py",
   "mimetype": "text/x-python",
   "name": "python",
   "nbconvert_exporter": "python",
   "pygments_lexer": "ipython3",
   "version": "3.13.3"
  }
 },
 "nbformat": 4,
 "nbformat_minor": 5
}
